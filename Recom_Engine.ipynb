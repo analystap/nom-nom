{
 "cells": [
  {
   "cell_type": "code",
   "execution_count": 1,
   "metadata": {
    "cell_id": "d3cd465061d54a96bd0fcf62089b59cb",
    "deepnote_app_block_visible": true,
    "deepnote_cell_type": "code",
    "deepnote_to_be_reexecuted": false,
    "execution_millis": 38341,
    "execution_start": 1710537303825,
    "source_hash": "d5f58643"
   },
   "outputs": [
    {
     "name": "stdout",
     "output_type": "stream",
     "text": [
      "Requirement already satisfied: textblob in c:\\users\\anura\\anaconda3\\lib\\site-packages (0.18.0.post0)\n",
      "Requirement already satisfied: nltk>=3.8 in c:\\users\\anura\\anaconda3\\lib\\site-packages (from textblob) (3.8.1)\n",
      "Requirement already satisfied: click in c:\\users\\anura\\anaconda3\\lib\\site-packages (from nltk>=3.8->textblob) (8.0.4)\n",
      "Requirement already satisfied: joblib in c:\\users\\anura\\anaconda3\\lib\\site-packages (from nltk>=3.8->textblob) (1.2.0)\n",
      "Requirement already satisfied: regex>=2021.8.3 in c:\\users\\anura\\anaconda3\\lib\\site-packages (from nltk>=3.8->textblob) (2022.7.9)\n",
      "Requirement already satisfied: tqdm in c:\\users\\anura\\anaconda3\\lib\\site-packages (from nltk>=3.8->textblob) (4.65.0)\n",
      "Requirement already satisfied: colorama in c:\\users\\anura\\appdata\\roaming\\python\\python311\\site-packages (from click->nltk>=3.8->textblob) (0.4.6)\n",
      "Note: you may need to restart the kernel to use updated packages.\n",
      "Requirement already satisfied: vaderSentiment in c:\\users\\anura\\anaconda3\\lib\\site-packages (3.3.2)\n",
      "Requirement already satisfied: requests in c:\\users\\anura\\anaconda3\\lib\\site-packages (from vaderSentiment) (2.31.0)\n",
      "Requirement already satisfied: charset-normalizer<4,>=2 in c:\\users\\anura\\anaconda3\\lib\\site-packages (from requests->vaderSentiment) (2.0.4)\n",
      "Requirement already satisfied: idna<4,>=2.5 in c:\\users\\anura\\anaconda3\\lib\\site-packages (from requests->vaderSentiment) (3.4)\n",
      "Requirement already satisfied: urllib3<3,>=1.21.1 in c:\\users\\anura\\anaconda3\\lib\\site-packages (from requests->vaderSentiment) (1.26.16)\n",
      "Requirement already satisfied: certifi>=2017.4.17 in c:\\users\\anura\\anaconda3\\lib\\site-packages (from requests->vaderSentiment) (2024.2.2)\n",
      "Note: you may need to restart the kernel to use updated packages.\n",
      "Requirement already satisfied: tabulate in c:\\users\\anura\\anaconda3\\lib\\site-packages (0.8.10)\n",
      "Note: you may need to restart the kernel to use updated packages.\n",
      "Requirement already satisfied: spacy in c:\\users\\anura\\anaconda3\\lib\\site-packages (3.7.4)\n",
      "Requirement already satisfied: spacy-legacy<3.1.0,>=3.0.11 in c:\\users\\anura\\anaconda3\\lib\\site-packages (from spacy) (3.0.12)\n",
      "Requirement already satisfied: spacy-loggers<2.0.0,>=1.0.0 in c:\\users\\anura\\anaconda3\\lib\\site-packages (from spacy) (1.0.5)\n",
      "Requirement already satisfied: murmurhash<1.1.0,>=0.28.0 in c:\\users\\anura\\anaconda3\\lib\\site-packages (from spacy) (1.0.10)\n",
      "Requirement already satisfied: cymem<2.1.0,>=2.0.2 in c:\\users\\anura\\anaconda3\\lib\\site-packages (from spacy) (2.0.8)\n",
      "Requirement already satisfied: preshed<3.1.0,>=3.0.2 in c:\\users\\anura\\anaconda3\\lib\\site-packages (from spacy) (3.0.9)\n",
      "Requirement already satisfied: thinc<8.3.0,>=8.2.2 in c:\\users\\anura\\anaconda3\\lib\\site-packages (from spacy) (8.2.3)\n",
      "Requirement already satisfied: wasabi<1.2.0,>=0.9.1 in c:\\users\\anura\\anaconda3\\lib\\site-packages (from spacy) (1.1.2)\n",
      "Requirement already satisfied: srsly<3.0.0,>=2.4.3 in c:\\users\\anura\\anaconda3\\lib\\site-packages (from spacy) (2.4.8)\n",
      "Requirement already satisfied: catalogue<2.1.0,>=2.0.6 in c:\\users\\anura\\anaconda3\\lib\\site-packages (from spacy) (2.0.10)\n",
      "Requirement already satisfied: weasel<0.4.0,>=0.1.0 in c:\\users\\anura\\anaconda3\\lib\\site-packages (from spacy) (0.3.4)\n",
      "Requirement already satisfied: typer<0.10.0,>=0.3.0 in c:\\users\\anura\\anaconda3\\lib\\site-packages (from spacy) (0.9.0)\n",
      "Requirement already satisfied: smart-open<7.0.0,>=5.2.1 in c:\\users\\anura\\anaconda3\\lib\\site-packages (from spacy) (5.2.1)\n",
      "Requirement already satisfied: tqdm<5.0.0,>=4.38.0 in c:\\users\\anura\\anaconda3\\lib\\site-packages (from spacy) (4.65.0)\n",
      "Requirement already satisfied: requests<3.0.0,>=2.13.0 in c:\\users\\anura\\anaconda3\\lib\\site-packages (from spacy) (2.31.0)\n",
      "Requirement already satisfied: pydantic!=1.8,!=1.8.1,<3.0.0,>=1.7.4 in c:\\users\\anura\\anaconda3\\lib\\site-packages (from spacy) (2.6.4)\n",
      "Requirement already satisfied: jinja2 in c:\\users\\anura\\anaconda3\\lib\\site-packages (from spacy) (3.1.2)\n",
      "Requirement already satisfied: setuptools in c:\\users\\anura\\anaconda3\\lib\\site-packages (from spacy) (67.8.0)\n",
      "Requirement already satisfied: packaging>=20.0 in c:\\users\\anura\\appdata\\roaming\\python\\python311\\site-packages (from spacy) (23.1)\n",
      "Requirement already satisfied: langcodes<4.0.0,>=3.2.0 in c:\\users\\anura\\anaconda3\\lib\\site-packages (from spacy) (3.3.0)\n",
      "Requirement already satisfied: numpy>=1.19.0 in c:\\users\\anura\\anaconda3\\lib\\site-packages (from spacy) (1.24.3)\n",
      "Requirement already satisfied: annotated-types>=0.4.0 in c:\\users\\anura\\anaconda3\\lib\\site-packages (from pydantic!=1.8,!=1.8.1,<3.0.0,>=1.7.4->spacy) (0.6.0)\n",
      "Requirement already satisfied: pydantic-core==2.16.3 in c:\\users\\anura\\anaconda3\\lib\\site-packages (from pydantic!=1.8,!=1.8.1,<3.0.0,>=1.7.4->spacy) (2.16.3)\n",
      "Requirement already satisfied: typing-extensions>=4.6.1 in c:\\users\\anura\\anaconda3\\lib\\site-packages (from pydantic!=1.8,!=1.8.1,<3.0.0,>=1.7.4->spacy) (4.6.3)\n",
      "Requirement already satisfied: charset-normalizer<4,>=2 in c:\\users\\anura\\anaconda3\\lib\\site-packages (from requests<3.0.0,>=2.13.0->spacy) (2.0.4)\n",
      "Requirement already satisfied: idna<4,>=2.5 in c:\\users\\anura\\anaconda3\\lib\\site-packages (from requests<3.0.0,>=2.13.0->spacy) (3.4)\n",
      "Requirement already satisfied: urllib3<3,>=1.21.1 in c:\\users\\anura\\anaconda3\\lib\\site-packages (from requests<3.0.0,>=2.13.0->spacy) (1.26.16)\n",
      "Requirement already satisfied: certifi>=2017.4.17 in c:\\users\\anura\\anaconda3\\lib\\site-packages (from requests<3.0.0,>=2.13.0->spacy) (2024.2.2)\n",
      "Requirement already satisfied: blis<0.8.0,>=0.7.8 in c:\\users\\anura\\anaconda3\\lib\\site-packages (from thinc<8.3.0,>=8.2.2->spacy) (0.7.11)\n",
      "Requirement already satisfied: confection<1.0.0,>=0.0.1 in c:\\users\\anura\\anaconda3\\lib\\site-packages (from thinc<8.3.0,>=8.2.2->spacy) (0.1.4)\n",
      "Requirement already satisfied: colorama in c:\\users\\anura\\appdata\\roaming\\python\\python311\\site-packages (from tqdm<5.0.0,>=4.38.0->spacy) (0.4.6)\n",
      "Requirement already satisfied: click<9.0.0,>=7.1.1 in c:\\users\\anura\\anaconda3\\lib\\site-packages (from typer<0.10.0,>=0.3.0->spacy) (8.0.4)\n",
      "Requirement already satisfied: cloudpathlib<0.17.0,>=0.7.0 in c:\\users\\anura\\anaconda3\\lib\\site-packages (from weasel<0.4.0,>=0.1.0->spacy) (0.16.0)\n",
      "Requirement already satisfied: MarkupSafe>=2.0 in c:\\users\\anura\\anaconda3\\lib\\site-packages (from jinja2->spacy) (2.1.1)\n",
      "Note: you may need to restart the kernel to use updated packages.\n",
      "Requirement already satisfied: gensim in c:\\users\\anura\\anaconda3\\lib\\site-packages (4.3.0)\n",
      "Requirement already satisfied: numpy>=1.18.5 in c:\\users\\anura\\anaconda3\\lib\\site-packages (from gensim) (1.24.3)\n",
      "Requirement already satisfied: scipy>=1.7.0 in c:\\users\\anura\\anaconda3\\lib\\site-packages (from gensim) (1.10.1)\n",
      "Requirement already satisfied: smart-open>=1.8.1 in c:\\users\\anura\\anaconda3\\lib\\site-packages (from gensim) (5.2.1)\n",
      "Requirement already satisfied: FuzzyTM>=0.4.0 in c:\\users\\anura\\anaconda3\\lib\\site-packages (from gensim) (2.0.5)\n",
      "Requirement already satisfied: pandas in c:\\users\\anura\\anaconda3\\lib\\site-packages (from FuzzyTM>=0.4.0->gensim) (1.5.3)\n",
      "Requirement already satisfied: pyfume in c:\\users\\anura\\anaconda3\\lib\\site-packages (from FuzzyTM>=0.4.0->gensim) (0.3.1)\n",
      "Requirement already satisfied: python-dateutil>=2.8.1 in c:\\users\\anura\\appdata\\roaming\\python\\python311\\site-packages (from pandas->FuzzyTM>=0.4.0->gensim) (2.8.2)\n",
      "Requirement already satisfied: pytz>=2020.1 in c:\\users\\anura\\anaconda3\\lib\\site-packages (from pandas->FuzzyTM>=0.4.0->gensim) (2022.7)\n",
      "Requirement already satisfied: simpful in c:\\users\\anura\\anaconda3\\lib\\site-packages (from pyfume->FuzzyTM>=0.4.0->gensim) (2.12.0)\n",
      "Requirement already satisfied: fst-pso in c:\\users\\anura\\anaconda3\\lib\\site-packages (from pyfume->FuzzyTM>=0.4.0->gensim) (1.8.1)\n",
      "Requirement already satisfied: typing-extensions in c:\\users\\anura\\anaconda3\\lib\\site-packages (from pyfume->FuzzyTM>=0.4.0->gensim) (4.6.3)\n",
      "Requirement already satisfied: six>=1.5 in c:\\users\\anura\\appdata\\roaming\\python\\python311\\site-packages (from python-dateutil>=2.8.1->pandas->FuzzyTM>=0.4.0->gensim) (1.16.0)\n",
      "Requirement already satisfied: miniful in c:\\users\\anura\\anaconda3\\lib\\site-packages (from fst-pso->pyfume->FuzzyTM>=0.4.0->gensim) (0.0.6)\n",
      "Note: you may need to restart the kernel to use updated packages.\n",
      "Requirement already satisfied: huggingface_hub in c:\\users\\anura\\anaconda3\\lib\\site-packages (0.21.4)\n",
      "Requirement already satisfied: filelock in c:\\users\\anura\\anaconda3\\lib\\site-packages (from huggingface_hub) (3.9.0)\n",
      "Requirement already satisfied: fsspec>=2023.5.0 in c:\\users\\anura\\anaconda3\\lib\\site-packages (from huggingface_hub) (2024.3.0)\n",
      "Requirement already satisfied: requests in c:\\users\\anura\\anaconda3\\lib\\site-packages (from huggingface_hub) (2.31.0)\n",
      "Requirement already satisfied: tqdm>=4.42.1 in c:\\users\\anura\\anaconda3\\lib\\site-packages (from huggingface_hub) (4.65.0)\n",
      "Requirement already satisfied: pyyaml>=5.1 in c:\\users\\anura\\anaconda3\\lib\\site-packages (from huggingface_hub) (6.0)\n",
      "Requirement already satisfied: typing-extensions>=3.7.4.3 in c:\\users\\anura\\anaconda3\\lib\\site-packages (from huggingface_hub) (4.6.3)\n",
      "Requirement already satisfied: packaging>=20.9 in c:\\users\\anura\\appdata\\roaming\\python\\python311\\site-packages (from huggingface_hub) (23.1)\n",
      "Requirement already satisfied: colorama in c:\\users\\anura\\appdata\\roaming\\python\\python311\\site-packages (from tqdm>=4.42.1->huggingface_hub) (0.4.6)\n",
      "Requirement already satisfied: charset-normalizer<4,>=2 in c:\\users\\anura\\anaconda3\\lib\\site-packages (from requests->huggingface_hub) (2.0.4)\n",
      "Requirement already satisfied: idna<4,>=2.5 in c:\\users\\anura\\anaconda3\\lib\\site-packages (from requests->huggingface_hub) (3.4)\n",
      "Requirement already satisfied: urllib3<3,>=1.21.1 in c:\\users\\anura\\anaconda3\\lib\\site-packages (from requests->huggingface_hub) (1.26.16)\n",
      "Requirement already satisfied: certifi>=2017.4.17 in c:\\users\\anura\\anaconda3\\lib\\site-packages (from requests->huggingface_hub) (2024.2.2)\n",
      "Note: you may need to restart the kernel to use updated packages.\n",
      "Requirement already satisfied: transformers in c:\\users\\anura\\anaconda3\\lib\\site-packages (4.38.2)\n",
      "Requirement already satisfied: filelock in c:\\users\\anura\\anaconda3\\lib\\site-packages (from transformers) (3.9.0)\n",
      "Requirement already satisfied: huggingface-hub<1.0,>=0.19.3 in c:\\users\\anura\\anaconda3\\lib\\site-packages (from transformers) (0.21.4)\n",
      "Requirement already satisfied: numpy>=1.17 in c:\\users\\anura\\anaconda3\\lib\\site-packages (from transformers) (1.24.3)\n",
      "Requirement already satisfied: packaging>=20.0 in c:\\users\\anura\\appdata\\roaming\\python\\python311\\site-packages (from transformers) (23.1)\n",
      "Requirement already satisfied: pyyaml>=5.1 in c:\\users\\anura\\anaconda3\\lib\\site-packages (from transformers) (6.0)\n",
      "Requirement already satisfied: regex!=2019.12.17 in c:\\users\\anura\\anaconda3\\lib\\site-packages (from transformers) (2022.7.9)\n",
      "Requirement already satisfied: requests in c:\\users\\anura\\anaconda3\\lib\\site-packages (from transformers) (2.31.0)\n",
      "Requirement already satisfied: tokenizers<0.19,>=0.14 in c:\\users\\anura\\anaconda3\\lib\\site-packages (from transformers) (0.15.2)\n",
      "Requirement already satisfied: safetensors>=0.4.1 in c:\\users\\anura\\anaconda3\\lib\\site-packages (from transformers) (0.4.2)\n",
      "Requirement already satisfied: tqdm>=4.27 in c:\\users\\anura\\anaconda3\\lib\\site-packages (from transformers) (4.65.0)\n",
      "Requirement already satisfied: fsspec>=2023.5.0 in c:\\users\\anura\\anaconda3\\lib\\site-packages (from huggingface-hub<1.0,>=0.19.3->transformers) (2024.3.0)\n",
      "Requirement already satisfied: typing-extensions>=3.7.4.3 in c:\\users\\anura\\anaconda3\\lib\\site-packages (from huggingface-hub<1.0,>=0.19.3->transformers) (4.6.3)\n",
      "Requirement already satisfied: colorama in c:\\users\\anura\\appdata\\roaming\\python\\python311\\site-packages (from tqdm>=4.27->transformers) (0.4.6)\n",
      "Requirement already satisfied: charset-normalizer<4,>=2 in c:\\users\\anura\\anaconda3\\lib\\site-packages (from requests->transformers) (2.0.4)\n",
      "Requirement already satisfied: idna<4,>=2.5 in c:\\users\\anura\\anaconda3\\lib\\site-packages (from requests->transformers) (3.4)\n",
      "Requirement already satisfied: urllib3<3,>=1.21.1 in c:\\users\\anura\\anaconda3\\lib\\site-packages (from requests->transformers) (1.26.16)\n",
      "Requirement already satisfied: certifi>=2017.4.17 in c:\\users\\anura\\anaconda3\\lib\\site-packages (from requests->transformers) (2024.2.2)\n",
      "Note: you may need to restart the kernel to use updated packages.\n",
      "Requirement already satisfied: streamlit in c:\\users\\anura\\anaconda3\\lib\\site-packages (1.32.2)\n",
      "Requirement already satisfied: altair<6,>=4.0 in c:\\users\\anura\\anaconda3\\lib\\site-packages (from streamlit) (5.2.0)\n",
      "Requirement already satisfied: blinker<2,>=1.0.0 in c:\\users\\anura\\anaconda3\\lib\\site-packages (from streamlit) (1.7.0)\n",
      "Requirement already satisfied: cachetools<6,>=4.0 in c:\\users\\anura\\anaconda3\\lib\\site-packages (from streamlit) (5.3.3)\n",
      "Requirement already satisfied: click<9,>=7.0 in c:\\users\\anura\\anaconda3\\lib\\site-packages (from streamlit) (8.0.4)\n",
      "Requirement already satisfied: numpy<2,>=1.19.3 in c:\\users\\anura\\anaconda3\\lib\\site-packages (from streamlit) (1.24.3)\n",
      "Requirement already satisfied: packaging<24,>=16.8 in c:\\users\\anura\\appdata\\roaming\\python\\python311\\site-packages (from streamlit) (23.1)\n",
      "Requirement already satisfied: pandas<3,>=1.3.0 in c:\\users\\anura\\anaconda3\\lib\\site-packages (from streamlit) (1.5.3)\n",
      "Requirement already satisfied: pillow<11,>=7.1.0 in c:\\users\\anura\\anaconda3\\lib\\site-packages (from streamlit) (9.4.0)\n",
      "Requirement already satisfied: protobuf<5,>=3.20 in c:\\users\\anura\\anaconda3\\lib\\site-packages (from streamlit) (4.25.3)\n",
      "Requirement already satisfied: pyarrow>=7.0 in c:\\users\\anura\\anaconda3\\lib\\site-packages (from streamlit) (11.0.0)\n",
      "Requirement already satisfied: requests<3,>=2.27 in c:\\users\\anura\\anaconda3\\lib\\site-packages (from streamlit) (2.31.0)\n",
      "Requirement already satisfied: rich<14,>=10.14.0 in c:\\users\\anura\\anaconda3\\lib\\site-packages (from streamlit) (13.7.1)\n",
      "Requirement already satisfied: tenacity<9,>=8.1.0 in c:\\users\\anura\\anaconda3\\lib\\site-packages (from streamlit) (8.2.2)\n",
      "Requirement already satisfied: toml<2,>=0.10.1 in c:\\users\\anura\\anaconda3\\lib\\site-packages (from streamlit) (0.10.2)\n",
      "Requirement already satisfied: typing-extensions<5,>=4.3.0 in c:\\users\\anura\\anaconda3\\lib\\site-packages (from streamlit) (4.6.3)\n",
      "Requirement already satisfied: gitpython!=3.1.19,<4,>=3.0.7 in c:\\users\\anura\\anaconda3\\lib\\site-packages (from streamlit) (3.1.42)\n",
      "Requirement already satisfied: pydeck<1,>=0.8.0b4 in c:\\users\\anura\\anaconda3\\lib\\site-packages (from streamlit) (0.8.1b0)\n",
      "Requirement already satisfied: tornado<7,>=6.0.3 in c:\\users\\anura\\appdata\\roaming\\python\\python311\\site-packages (from streamlit) (6.3.2)\n",
      "Requirement already satisfied: watchdog>=2.1.5 in c:\\users\\anura\\anaconda3\\lib\\site-packages (from streamlit) (2.1.6)\n",
      "Requirement already satisfied: jinja2 in c:\\users\\anura\\anaconda3\\lib\\site-packages (from altair<6,>=4.0->streamlit) (3.1.2)\n",
      "Requirement already satisfied: jsonschema>=3.0 in c:\\users\\anura\\anaconda3\\lib\\site-packages (from altair<6,>=4.0->streamlit) (4.19.2)\n",
      "Requirement already satisfied: toolz in c:\\users\\anura\\anaconda3\\lib\\site-packages (from altair<6,>=4.0->streamlit) (0.12.0)\n",
      "Requirement already satisfied: colorama in c:\\users\\anura\\appdata\\roaming\\python\\python311\\site-packages (from click<9,>=7.0->streamlit) (0.4.6)\n",
      "Requirement already satisfied: gitdb<5,>=4.0.1 in c:\\users\\anura\\anaconda3\\lib\\site-packages (from gitpython!=3.1.19,<4,>=3.0.7->streamlit) (4.0.11)\n",
      "Requirement already satisfied: python-dateutil>=2.8.1 in c:\\users\\anura\\appdata\\roaming\\python\\python311\\site-packages (from pandas<3,>=1.3.0->streamlit) (2.8.2)\n",
      "Requirement already satisfied: pytz>=2020.1 in c:\\users\\anura\\anaconda3\\lib\\site-packages (from pandas<3,>=1.3.0->streamlit) (2022.7)\n",
      "Requirement already satisfied: charset-normalizer<4,>=2 in c:\\users\\anura\\anaconda3\\lib\\site-packages (from requests<3,>=2.27->streamlit) (2.0.4)\n",
      "Requirement already satisfied: idna<4,>=2.5 in c:\\users\\anura\\anaconda3\\lib\\site-packages (from requests<3,>=2.27->streamlit) (3.4)\n",
      "Requirement already satisfied: urllib3<3,>=1.21.1 in c:\\users\\anura\\anaconda3\\lib\\site-packages (from requests<3,>=2.27->streamlit) (1.26.16)\n",
      "Requirement already satisfied: certifi>=2017.4.17 in c:\\users\\anura\\anaconda3\\lib\\site-packages (from requests<3,>=2.27->streamlit) (2024.2.2)\n",
      "Requirement already satisfied: markdown-it-py>=2.2.0 in c:\\users\\anura\\anaconda3\\lib\\site-packages (from rich<14,>=10.14.0->streamlit) (2.2.0)\n",
      "Requirement already satisfied: pygments<3.0.0,>=2.13.0 in c:\\users\\anura\\appdata\\roaming\\python\\python311\\site-packages (from rich<14,>=10.14.0->streamlit) (2.15.1)\n",
      "Requirement already satisfied: smmap<6,>=3.0.1 in c:\\users\\anura\\anaconda3\\lib\\site-packages (from gitdb<5,>=4.0.1->gitpython!=3.1.19,<4,>=3.0.7->streamlit) (5.0.1)\n",
      "Requirement already satisfied: MarkupSafe>=2.0 in c:\\users\\anura\\anaconda3\\lib\\site-packages (from jinja2->altair<6,>=4.0->streamlit) (2.1.1)\n",
      "Requirement already satisfied: attrs>=22.2.0 in c:\\users\\anura\\anaconda3\\lib\\site-packages (from jsonschema>=3.0->altair<6,>=4.0->streamlit) (23.1.0)\n",
      "Requirement already satisfied: jsonschema-specifications>=2023.03.6 in c:\\users\\anura\\anaconda3\\lib\\site-packages (from jsonschema>=3.0->altair<6,>=4.0->streamlit) (2023.7.1)\n",
      "Requirement already satisfied: referencing>=0.28.4 in c:\\users\\anura\\anaconda3\\lib\\site-packages (from jsonschema>=3.0->altair<6,>=4.0->streamlit) (0.30.2)\n",
      "Requirement already satisfied: rpds-py>=0.7.1 in c:\\users\\anura\\anaconda3\\lib\\site-packages (from jsonschema>=3.0->altair<6,>=4.0->streamlit) (0.10.6)\n",
      "Requirement already satisfied: mdurl~=0.1 in c:\\users\\anura\\anaconda3\\lib\\site-packages (from markdown-it-py>=2.2.0->rich<14,>=10.14.0->streamlit) (0.1.0)\n",
      "Requirement already satisfied: six>=1.5 in c:\\users\\anura\\appdata\\roaming\\python\\python311\\site-packages (from python-dateutil>=2.8.1->pandas<3,>=1.3.0->streamlit) (1.16.0)\n",
      "Note: you may need to restart the kernel to use updated packages.\n"
     ]
    }
   ],
   "source": [
    "#Importing libraries\n",
    "%pip install -U textblob\n",
    "%pip install vaderSentiment\n",
    "# python -m textblob.download_corpora\n",
    "%pip install tabulate\n",
    "%pip install spacy\n",
    "%pip install gensim\n",
    "%pip install --upgrade huggingface_hub\n",
    "%pip install transformers\n",
    "%pip install streamlit"
   ]
  },
  {
   "cell_type": "code",
   "execution_count": 2,
   "metadata": {
    "cell_id": "33fb9025f06044bb985035d5ca7ce58b",
    "deepnote_app_block_visible": true,
    "deepnote_cell_type": "code",
    "deepnote_to_be_reexecuted": false,
    "execution_millis": 5662,
    "execution_start": 1710537342171,
    "source_hash": "c546a64a"
   },
   "outputs": [
    {
     "name": "stderr",
     "output_type": "stream",
     "text": [
      "[nltk_data] Downloading package stopwords to\n",
      "[nltk_data]     C:\\Users\\anura\\AppData\\Roaming\\nltk_data...\n",
      "[nltk_data]   Package stopwords is already up-to-date!\n"
     ]
    }
   ],
   "source": [
    "import numpy as np\n",
    "import pandas as pd\n",
    "import pickle\n",
    "import streamlit as st\n",
    "from sklearn.feature_extraction.text import TfidfVectorizer\n",
    "from sklearn.metrics.pairwise import cosine_similarity\n",
    "import nltk\n",
    "from nltk.corpus import stopwords\n",
    "nltk.download('stopwords')\n",
    "from PIL import Image\n",
    "import streamlit as st\n",
    "import pickle as pk\n",
    "import os"
   ]
  },
  {
   "cell_type": "code",
   "execution_count": 3,
   "metadata": {},
   "outputs": [],
   "source": [
    "import string  # Add this import statement\n",
    "from nltk.stem.porter import PorterStemmer"
   ]
  },
  {
   "cell_type": "markdown",
   "metadata": {
    "cell_id": "eecd0e70539440608bae3765fcb76189",
    "deepnote_app_block_visible": true,
    "deepnote_cell_type": "text-cell-h1",
    "formattedRanges": []
   },
   "source": [
    "# Creating Recipe Dataframe"
   ]
  },
  {
   "cell_type": "code",
   "execution_count": 4,
   "metadata": {},
   "outputs": [],
   "source": [
    "recipe_data = pd.read_csv('D:/6. Books_MSBA/8. NLP/22. Project/recipe_data_filtered.csv')"
   ]
  },
  {
   "cell_type": "code",
   "execution_count": 5,
   "metadata": {},
   "outputs": [
    {
     "data": {
      "text/html": [
       "<div>\n",
       "<style scoped>\n",
       "    .dataframe tbody tr th:only-of-type {\n",
       "        vertical-align: middle;\n",
       "    }\n",
       "\n",
       "    .dataframe tbody tr th {\n",
       "        vertical-align: top;\n",
       "    }\n",
       "\n",
       "    .dataframe thead th {\n",
       "        text-align: right;\n",
       "    }\n",
       "</style>\n",
       "<table border=\"1\" class=\"dataframe\">\n",
       "  <thead>\n",
       "    <tr style=\"text-align: right;\">\n",
       "      <th></th>\n",
       "      <th>title</th>\n",
       "      <th>ingredients_str</th>\n",
       "      <th>instructions_str</th>\n",
       "    </tr>\n",
       "  </thead>\n",
       "  <tbody>\n",
       "    <tr>\n",
       "      <th>0</th>\n",
       "      <td>Slow Cooker Chicken and Dumplings</td>\n",
       "      <td>4 skinless, boneless chicken breast halves  2 ...</td>\n",
       "      <td>Place the chicken, butter, soup, and onion in ...</td>\n",
       "    </tr>\n",
       "    <tr>\n",
       "      <th>1</th>\n",
       "      <td>Awesome Slow Cooker Pot Roast</td>\n",
       "      <td>2 (10.75 ounce) cans condensed cream of mushro...</td>\n",
       "      <td>In a slow cooker, mix cream of mushroom soup, ...</td>\n",
       "    </tr>\n",
       "    <tr>\n",
       "      <th>2</th>\n",
       "      <td>Brown Sugar Meatloaf</td>\n",
       "      <td>1/2 cup packed brown sugar  1/2 cup ketchup  1...</td>\n",
       "      <td>Preheat oven to 350 degrees F (175 degrees C)....</td>\n",
       "    </tr>\n",
       "    <tr>\n",
       "      <th>3</th>\n",
       "      <td>Best Chocolate Chip Cookies</td>\n",
       "      <td>1 cup butter, softened  1 cup white sugar  1 c...</td>\n",
       "      <td>Preheat oven to 350 degrees F (175 degrees C)....</td>\n",
       "    </tr>\n",
       "    <tr>\n",
       "      <th>4</th>\n",
       "      <td>Homemade Mac and Cheese Casserole</td>\n",
       "      <td>8 ounces whole wheat rotini pasta  3 cups fres...</td>\n",
       "      <td>Preheat oven to 350 degrees F. Line a 2-quart ...</td>\n",
       "    </tr>\n",
       "  </tbody>\n",
       "</table>\n",
       "</div>"
      ],
      "text/plain": [
       "                               title  \\\n",
       "0  Slow Cooker Chicken and Dumplings   \n",
       "1      Awesome Slow Cooker Pot Roast   \n",
       "2               Brown Sugar Meatloaf   \n",
       "3        Best Chocolate Chip Cookies   \n",
       "4  Homemade Mac and Cheese Casserole   \n",
       "\n",
       "                                     ingredients_str  \\\n",
       "0  4 skinless, boneless chicken breast halves  2 ...   \n",
       "1  2 (10.75 ounce) cans condensed cream of mushro...   \n",
       "2  1/2 cup packed brown sugar  1/2 cup ketchup  1...   \n",
       "3  1 cup butter, softened  1 cup white sugar  1 c...   \n",
       "4  8 ounces whole wheat rotini pasta  3 cups fres...   \n",
       "\n",
       "                                    instructions_str  \n",
       "0  Place the chicken, butter, soup, and onion in ...  \n",
       "1  In a slow cooker, mix cream of mushroom soup, ...  \n",
       "2  Preheat oven to 350 degrees F (175 degrees C)....  \n",
       "3  Preheat oven to 350 degrees F (175 degrees C)....  \n",
       "4  Preheat oven to 350 degrees F. Line a 2-quart ...  "
      ]
     },
     "execution_count": 5,
     "metadata": {},
     "output_type": "execute_result"
    }
   ],
   "source": [
    "recipe_data.head()"
   ]
  },
  {
   "cell_type": "code",
   "execution_count": 6,
   "metadata": {},
   "outputs": [
    {
     "name": "stdout",
     "output_type": "stream",
     "text": [
      "<class 'pandas.core.frame.DataFrame'>\n",
      "RangeIndex: 124473 entries, 0 to 124472\n",
      "Data columns (total 3 columns):\n",
      " #   Column            Non-Null Count   Dtype \n",
      "---  ------            --------------   ----- \n",
      " 0   title             124473 non-null  object\n",
      " 1   ingredients_str   122951 non-null  object\n",
      " 2   instructions_str  124450 non-null  object\n",
      "dtypes: object(3)\n",
      "memory usage: 2.8+ MB\n"
     ]
    }
   ],
   "source": [
    "recipe_data.info()"
   ]
  },
  {
   "cell_type": "code",
   "execution_count": 7,
   "metadata": {
    "cell_id": "4dfe1e56dd9a46258a4765bb8d96729e",
    "deepnote_app_block_visible": true,
    "deepnote_cell_type": "code",
    "deepnote_to_be_reexecuted": false,
    "execution_millis": 282,
    "execution_start": 1710537404051,
    "source_hash": "ac86e5b1"
   },
   "outputs": [
    {
     "data": {
      "text/html": [
       "<div>\n",
       "<style scoped>\n",
       "    .dataframe tbody tr th:only-of-type {\n",
       "        vertical-align: middle;\n",
       "    }\n",
       "\n",
       "    .dataframe tbody tr th {\n",
       "        vertical-align: top;\n",
       "    }\n",
       "\n",
       "    .dataframe thead th {\n",
       "        text-align: right;\n",
       "    }\n",
       "</style>\n",
       "<table border=\"1\" class=\"dataframe\">\n",
       "  <thead>\n",
       "    <tr style=\"text-align: right;\">\n",
       "      <th></th>\n",
       "      <th>title</th>\n",
       "      <th>ingredients_str</th>\n",
       "      <th>instructions_str</th>\n",
       "      <th>Combined</th>\n",
       "    </tr>\n",
       "  </thead>\n",
       "  <tbody>\n",
       "    <tr>\n",
       "      <th>0</th>\n",
       "      <td>Slow Cooker Chicken and Dumplings</td>\n",
       "      <td>4 skinless, boneless chicken breast halves  2 ...</td>\n",
       "      <td>Place the chicken, butter, soup, and onion in ...</td>\n",
       "      <td>Slow Cooker Chicken and Dumplings 4 skinless, ...</td>\n",
       "    </tr>\n",
       "    <tr>\n",
       "      <th>1</th>\n",
       "      <td>Awesome Slow Cooker Pot Roast</td>\n",
       "      <td>2 (10.75 ounce) cans condensed cream of mushro...</td>\n",
       "      <td>In a slow cooker, mix cream of mushroom soup, ...</td>\n",
       "      <td>Awesome Slow Cooker Pot Roast 2 (10.75 ounce) ...</td>\n",
       "    </tr>\n",
       "    <tr>\n",
       "      <th>2</th>\n",
       "      <td>Brown Sugar Meatloaf</td>\n",
       "      <td>1/2 cup packed brown sugar  1/2 cup ketchup  1...</td>\n",
       "      <td>Preheat oven to 350 degrees F (175 degrees C)....</td>\n",
       "      <td>Brown Sugar Meatloaf 1/2 cup packed brown suga...</td>\n",
       "    </tr>\n",
       "    <tr>\n",
       "      <th>3</th>\n",
       "      <td>Best Chocolate Chip Cookies</td>\n",
       "      <td>1 cup butter, softened  1 cup white sugar  1 c...</td>\n",
       "      <td>Preheat oven to 350 degrees F (175 degrees C)....</td>\n",
       "      <td>Best Chocolate Chip Cookies 1 cup butter, soft...</td>\n",
       "    </tr>\n",
       "    <tr>\n",
       "      <th>4</th>\n",
       "      <td>Homemade Mac and Cheese Casserole</td>\n",
       "      <td>8 ounces whole wheat rotini pasta  3 cups fres...</td>\n",
       "      <td>Preheat oven to 350 degrees F. Line a 2-quart ...</td>\n",
       "      <td>Homemade Mac and Cheese Casserole 8 ounces who...</td>\n",
       "    </tr>\n",
       "    <tr>\n",
       "      <th>...</th>\n",
       "      <td>...</td>\n",
       "      <td>...</td>\n",
       "      <td>...</td>\n",
       "      <td>...</td>\n",
       "    </tr>\n",
       "    <tr>\n",
       "      <th>124468</th>\n",
       "      <td>Summer Corn Salad</td>\n",
       "      <td>4 ears fresh corn 2 heads Belgian endive 2 tab...</td>\n",
       "      <td>Watch how to make this recipe.\\nPreheat a gril...</td>\n",
       "      <td>Summer Corn Salad 4 ears fresh corn 2 heads Be...</td>\n",
       "    </tr>\n",
       "    <tr>\n",
       "      <th>124469</th>\n",
       "      <td>Zucchini Stuffed Tomatoes</td>\n",
       "      <td>4 large plum tomatoes Salt and sugar 1 1/2 pou...</td>\n",
       "      <td>Preheat the broiler. Cut the tomatoes in 1/2 c...</td>\n",
       "      <td>Zucchini Stuffed Tomatoes 4 large plum tomatoe...</td>\n",
       "    </tr>\n",
       "    <tr>\n",
       "      <th>124470</th>\n",
       "      <td>Pepper Pasta Quick Cook</td>\n",
       "      <td>3 tablespoons olive oil 2 tablespoons unsalted...</td>\n",
       "      <td>Heat the oil and butter in a large skillet ove...</td>\n",
       "      <td>Pepper Pasta Quick Cook 3 tablespoons olive oi...</td>\n",
       "    </tr>\n",
       "    <tr>\n",
       "      <th>124471</th>\n",
       "      <td>Chocolate Cake with Armagnac Ice Cream</td>\n",
       "      <td>8 ounces butter 8 ounces bittersweet chocolate...</td>\n",
       "      <td>Preheat oven to 350 degrees. On the top half o...</td>\n",
       "      <td>Chocolate Cake with Armagnac Ice Cream 8 ounce...</td>\n",
       "    </tr>\n",
       "    <tr>\n",
       "      <th>124472</th>\n",
       "      <td>Crabby Bisque</td>\n",
       "      <td>3 (10.5-ounce) cans restaurant-style condensed...</td>\n",
       "      <td>Watch how to make this recipe.\\nIn a medium sa...</td>\n",
       "      <td>Crabby Bisque 3 (10.5-ounce) cans restaurant-s...</td>\n",
       "    </tr>\n",
       "  </tbody>\n",
       "</table>\n",
       "<p>124473 rows × 4 columns</p>\n",
       "</div>"
      ],
      "text/plain": [
       "                                         title  \\\n",
       "0            Slow Cooker Chicken and Dumplings   \n",
       "1                Awesome Slow Cooker Pot Roast   \n",
       "2                         Brown Sugar Meatloaf   \n",
       "3                  Best Chocolate Chip Cookies   \n",
       "4            Homemade Mac and Cheese Casserole   \n",
       "...                                        ...   \n",
       "124468                       Summer Corn Salad   \n",
       "124469               Zucchini Stuffed Tomatoes   \n",
       "124470                 Pepper Pasta Quick Cook   \n",
       "124471  Chocolate Cake with Armagnac Ice Cream   \n",
       "124472                           Crabby Bisque   \n",
       "\n",
       "                                          ingredients_str  \\\n",
       "0       4 skinless, boneless chicken breast halves  2 ...   \n",
       "1       2 (10.75 ounce) cans condensed cream of mushro...   \n",
       "2       1/2 cup packed brown sugar  1/2 cup ketchup  1...   \n",
       "3       1 cup butter, softened  1 cup white sugar  1 c...   \n",
       "4       8 ounces whole wheat rotini pasta  3 cups fres...   \n",
       "...                                                   ...   \n",
       "124468  4 ears fresh corn 2 heads Belgian endive 2 tab...   \n",
       "124469  4 large plum tomatoes Salt and sugar 1 1/2 pou...   \n",
       "124470  3 tablespoons olive oil 2 tablespoons unsalted...   \n",
       "124471  8 ounces butter 8 ounces bittersweet chocolate...   \n",
       "124472  3 (10.5-ounce) cans restaurant-style condensed...   \n",
       "\n",
       "                                         instructions_str  \\\n",
       "0       Place the chicken, butter, soup, and onion in ...   \n",
       "1       In a slow cooker, mix cream of mushroom soup, ...   \n",
       "2       Preheat oven to 350 degrees F (175 degrees C)....   \n",
       "3       Preheat oven to 350 degrees F (175 degrees C)....   \n",
       "4       Preheat oven to 350 degrees F. Line a 2-quart ...   \n",
       "...                                                   ...   \n",
       "124468  Watch how to make this recipe.\\nPreheat a gril...   \n",
       "124469  Preheat the broiler. Cut the tomatoes in 1/2 c...   \n",
       "124470  Heat the oil and butter in a large skillet ove...   \n",
       "124471  Preheat oven to 350 degrees. On the top half o...   \n",
       "124472  Watch how to make this recipe.\\nIn a medium sa...   \n",
       "\n",
       "                                                 Combined  \n",
       "0       Slow Cooker Chicken and Dumplings 4 skinless, ...  \n",
       "1       Awesome Slow Cooker Pot Roast 2 (10.75 ounce) ...  \n",
       "2       Brown Sugar Meatloaf 1/2 cup packed brown suga...  \n",
       "3       Best Chocolate Chip Cookies 1 cup butter, soft...  \n",
       "4       Homemade Mac and Cheese Casserole 8 ounces who...  \n",
       "...                                                   ...  \n",
       "124468  Summer Corn Salad 4 ears fresh corn 2 heads Be...  \n",
       "124469  Zucchini Stuffed Tomatoes 4 large plum tomatoe...  \n",
       "124470  Pepper Pasta Quick Cook 3 tablespoons olive oi...  \n",
       "124471  Chocolate Cake with Armagnac Ice Cream 8 ounce...  \n",
       "124472  Crabby Bisque 3 (10.5-ounce) cans restaurant-s...  \n",
       "\n",
       "[124473 rows x 4 columns]"
      ]
     },
     "execution_count": 7,
     "metadata": {},
     "output_type": "execute_result"
    }
   ],
   "source": [
    "# Joing all the column in one string\n",
    "# Define a function to combine the three columns\n",
    "def combine_columns(row):\n",
    "  return ' '.join([str(row['title']), str(row['ingredients_str']), str(row['instructions_str'])])\n",
    "\n",
    "# Apply the function to each row of the dataframe\n",
    "recipe_data['Combined'] = recipe_data.apply(combine_columns, axis=1)\n",
    "\n",
    "recipe_data"
   ]
  },
  {
   "cell_type": "code",
   "execution_count": 8,
   "metadata": {
    "cell_id": "385f02b22f094ea7ac66900cb3518e44",
    "deepnote_app_block_visible": true,
    "deepnote_cell_type": "code",
    "deepnote_to_be_reexecuted": false,
    "execution_millis": 271,
    "execution_start": 1710537404063,
    "source_hash": "80fda91c"
   },
   "outputs": [],
   "source": [
    "stemmer = nltk.stem.PorterStemmer()\n",
    "ENGLISH_STOP_WORDS = stopwords.words('english')\n",
    "additional_stop_words = [\n",
    "    'make', 'dish', 'suggest', 'recipe', 'includes', 'looking', 'cook', 'something', \n",
    "    'wish', 'eat', 'help', 'find', 'mood', 'show', 'recipes', 'try', 'thinking', \n",
    "    'cooking', 'suggestions', 'recommend', 'good', 'help', 'ideas', 'inspiration',\n",
    "    '.', ',', '!', '?', '-', ':', ';', '\"', \"'\", \"’\", '“', '”', '(', ')'\n",
    "]\n",
    "STOP_words = ENGLISH_STOP_WORDS + additional_stop_words\n",
    "\n",
    "def recipe_tokenizer(sentence):\n",
    "    # remove punctuation and set to lowercase\n",
    "    for punctuation_mark in string.punctuation:\n",
    "        sentence = sentence.replace(punctuation_mark, '').lower()\n",
    "\n",
    "    # split sentence into words\n",
    "    listofwords = sentence.split(' ')\n",
    "    listofstemmed_words = []\n",
    "\n",
    "    # remove stopwords and any tokens that are just empty strings\n",
    "    for word in listofwords:\n",
    "        if (not word in STOP_words) and (word != ''):\n",
    "            # Stem words\n",
    "            stemmed_word = stemmer.stem(word)\n",
    "            listofstemmed_words.append(stemmed_word)\n",
    "\n",
    "    return listofstemmed_words"
   ]
  },
  {
   "cell_type": "code",
   "execution_count": 9,
   "metadata": {
    "cell_id": "d534ae451dbc4f428c352d0921754c50",
    "deepnote_app_block_visible": true,
    "deepnote_cell_type": "code",
    "deepnote_to_be_reexecuted": false,
    "execution_millis": 274,
    "execution_start": 1710537404108,
    "source_hash": "b9e85867"
   },
   "outputs": [
    {
     "name": "stderr",
     "output_type": "stream",
     "text": [
      "c:\\Users\\anura\\anaconda3\\Lib\\site-packages\\sklearn\\feature_extraction\\text.py:525: UserWarning: The parameter 'token_pattern' will not be used since 'tokenizer' is not None'\n",
      "  warnings.warn(\n"
     ]
    }
   ],
   "source": [
    "# Create a TF-IDF Vectorizer\n",
    "vectorizer = TfidfVectorizer(tokenizer=recipe_tokenizer)\n",
    "\n",
    "# Fit and transform the data\n",
    "vectorized_data = vectorizer.fit_transform(recipe_data['Combined'])"
   ]
  },
  {
   "cell_type": "code",
   "execution_count": 10,
   "metadata": {
    "cell_id": "fdf2cd33bb23496e91476946543409d6",
    "deepnote_app_block_visible": true,
    "deepnote_cell_type": "code",
    "deepnote_to_be_reexecuted": false,
    "execution_millis": 223,
    "execution_start": 1710537404385,
    "source_hash": "879907ab"
   },
   "outputs": [
    {
     "data": {
      "text/plain": [
       "<124473x130224 sparse matrix of type '<class 'numpy.float64'>'\n",
       "\twith 10314903 stored elements in Compressed Sparse Row format>"
      ]
     },
     "execution_count": 10,
     "metadata": {},
     "output_type": "execute_result"
    }
   ],
   "source": [
    "vectorized_data"
   ]
  },
  {
   "cell_type": "code",
   "execution_count": 11,
   "metadata": {},
   "outputs": [],
   "source": [
    "pickle_out = open(\"vectorizer.pkl\",\"wb\")\n",
    "pickle.dump(vectorizer, pickle_out)\n",
    "pickle_out.close()"
   ]
  },
  {
   "cell_type": "code",
   "execution_count": 12,
   "metadata": {},
   "outputs": [],
   "source": [
    "pickle_out = open(\"recipe_data.pkl\",\"wb\")\n",
    "pickle.dump(recipe_data, pickle_out)\n",
    "pickle_out.close()"
   ]
  },
  {
   "cell_type": "code",
   "execution_count": 13,
   "metadata": {},
   "outputs": [],
   "source": [
    "pickle_out = open(\"vectorized_data.pkl\",\"wb\")\n",
    "pickle.dump(vectorized_data, pickle_out)\n",
    "pickle_out.close()"
   ]
  },
  {
   "cell_type": "code",
   "execution_count": 14,
   "metadata": {},
   "outputs": [],
   "source": [
    "import os"
   ]
  },
  {
   "cell_type": "code",
   "execution_count": 15,
   "metadata": {},
   "outputs": [
    {
     "name": "stdout",
     "output_type": "stream",
     "text": [
      "Current working directory:  c:\\Users\\anura\\OneDrive\\Desktop\\GitHub New\\nom-nom\n"
     ]
    }
   ],
   "source": [
    "print(\"Current working directory: \", os.getcwd())"
   ]
  },
  {
   "cell_type": "markdown",
   "metadata": {
    "cell_id": "130b5b991f8348dd92c1bad87a0ab15e",
    "deepnote_app_block_visible": true,
    "deepnote_cell_type": "text-cell-h1",
    "formattedRanges": []
   },
   "source": [
    "# Processing The User Input"
   ]
  },
  {
   "cell_type": "code",
   "execution_count": 16,
   "metadata": {
    "cell_id": "4d3a29de7d1f4189a4c4fb75738efc0c",
    "deepnote_app_block_visible": true,
    "deepnote_cell_type": "code",
    "deepnote_to_be_reexecuted": false,
    "execution_millis": 244,
    "execution_start": 1710537405180,
    "source_hash": "eabd44a9"
   },
   "outputs": [
    {
     "name": "stdout",
     "output_type": "stream",
     "text": [
      "I wish to eat something with potato, broccoli, basil.\n",
      "Here is your recipe:\n"
     ]
    },
    {
     "data": {
      "text/html": [
       "<div><strong>Title:</strong> Broccoli and Cheese Smashed Potatoes</div>"
      ],
      "text/plain": [
       "<IPython.core.display.HTML object>"
      ]
     },
     "metadata": {},
     "output_type": "display_data"
    },
    {
     "data": {
      "text/html": [
       "<div><strong>Ingredients:</strong> 1 1/2 pounds small potatoes (recommended: Yukon gold) 1 small head broccoli 1 cup whole milk 2 tablespoons butter 1 1/2 cups shredded sharp Cheddar Salt and freshly ground black pepper</div>"
      ],
      "text/plain": [
       "<IPython.core.display.HTML object>"
      ]
     },
     "metadata": {},
     "output_type": "display_data"
    },
    {
     "data": {
      "text/html": [
       "<div><strong>Instructions:</strong> Watch how to make this recipe.\n",
       "Halve the potatoes and add to a large pot. Cover with water and bring to a boil over high heat. Reduce the heat to medium-low and cook the potatoes for 10 minutes while you trim and chop broccoli into 1/2-inch dice. Add the broccoli to the potatoes and cook for 5 minutes more. Drain and return to the hot pot to dry. Stir in the milk, butter and cheese and mash until the cheese melts into potatoes and broccoli. Season with salt and pepper, to taste, and transfer to a serving bowl, to serve.</div>"
      ],
      "text/plain": [
       "<IPython.core.display.HTML object>"
      ]
     },
     "metadata": {},
     "output_type": "display_data"
    },
    {
     "data": {
      "text/html": [
       "<div><strong>Similarity Score:<strong> 0.66</div>"
      ],
      "text/plain": [
       "<IPython.core.display.HTML object>"
      ]
     },
     "metadata": {},
     "output_type": "display_data"
    }
   ],
   "source": [
    "# Process and vectorize the input\n",
    "input_vector = \"I wish to eat something with potato, broccoli, basil.\"  # Combine input words into a single string for vectorization\n",
    "input_vectorized = vectorizer.transform([input_vector])\n",
    "\n",
    "# Compute cosine similarity\n",
    "cosine_sim_matrix = cosine_similarity(input_vectorized, vectorized_data)\n",
    "\n",
    "# Get the index of the most similar recipe\n",
    "most_similar_recipe_index = np.argmax(cosine_sim_matrix)\n",
    "\n",
    "# Output the most similar recipe\n",
    "print(input_vector)\n",
    "#print(f\"Most similar recipe: {test_df.iloc[most_similar_recipe_index]['Combined']}\")\n",
    "# Sort the recipes by their similarity score\n",
    "top_indices = np.argsort(cosine_sim_matrix.flatten())[-1:][::-1]\n",
    "\n",
    "#recipes_out \n",
    "from IPython.display import display, HTML\n",
    "\n",
    "print(\"Here is your recipe:\")\n",
    "for index in top_indices:\n",
    "    title = recipe_data.iloc[index]['title']\n",
    "    ingredients = recipe_data.iloc[index]['ingredients_str']\n",
    "    instructions = recipe_data.iloc[index]['instructions_str']\n",
    "    similarity_score = f\"{cosine_sim_matrix[0, index]:.2f}\"\n",
    "    \n",
    "    # Use HTML to format the ingredients and instructions in bold\n",
    "    display(HTML(f\"<div><strong>Title:</strong> {title}</div>\"))\n",
    "    display(HTML(f\"<div><strong>Ingredients:</strong> {ingredients}</div>\"))\n",
    "    display(HTML(f\"<div><strong>Instructions:</strong> {instructions}</div>\"))\n",
    "    display(HTML(f\"<div><strong>Similarity Score:<strong> {similarity_score}</div>\"))\n",
    "\n"
   ]
  },
  {
   "cell_type": "code",
   "execution_count": 17,
   "metadata": {
    "cell_id": "8d14635ee0fd4cce9525247ee449d56b",
    "deepnote_app_block_visible": true,
    "deepnote_cell_type": "code",
    "deepnote_to_be_reexecuted": false,
    "execution_millis": 350,
    "execution_start": 1710537405440,
    "source_hash": "aca530bc"
   },
   "outputs": [
    {
     "data": {
      "text/plain": [
       "array([100821], dtype=int64)"
      ]
     },
     "execution_count": 17,
     "metadata": {},
     "output_type": "execute_result"
    }
   ],
   "source": [
    "top_indices"
   ]
  },
  {
   "cell_type": "code",
   "execution_count": 18,
   "metadata": {
    "cell_id": "8c95f5ab64bf4141a234a5c659d4ab0e",
    "deepnote_app_block_visible": true,
    "deepnote_cell_type": "code",
    "deepnote_to_be_reexecuted": false,
    "execution_millis": 345,
    "execution_start": 1710537405446,
    "source_hash": "2d9c3822"
   },
   "outputs": [
    {
     "data": {
      "text/plain": [
       "array([[0.        , 0.        , 0.        , ..., 0.03668721, 0.        ,\n",
       "        0.        ]])"
      ]
     },
     "execution_count": 18,
     "metadata": {},
     "output_type": "execute_result"
    }
   ],
   "source": [
    "cosine_sim_matrix"
   ]
  },
  {
   "cell_type": "code",
   "execution_count": 19,
   "metadata": {
    "cell_id": "2f44aa1ddc324fed89bb143e218645b9",
    "deepnote_app_block_visible": true,
    "deepnote_cell_type": "code",
    "deepnote_to_be_reexecuted": false,
    "execution_millis": 328,
    "execution_start": 1710537405463,
    "source_hash": "2a2b975c"
   },
   "outputs": [
    {
     "name": "stdout",
     "output_type": "stream",
     "text": [
      "Top 5 similar recipes:\n",
      "Broccoli and Cheese Smashed Potatoes 1 1/2 pounds small potatoes (recommended: Yukon gold) 1 small head broccoli 1 cup whole milk 2 tablespoons butter 1 1/2 cups shredded sharp Cheddar Salt and freshly ground black pepper Watch how to make this recipe.\n",
      "Halve the potatoes and add to a large pot. Cover with water and bring to a boil over high heat. Reduce the heat to medium-low and cook the potatoes for 10 minutes while you trim and chop broccoli into 1/2-inch dice. Add the broccoli to the potatoes and cook for 5 minutes more. Drain and return to the hot pot to dry. Stir in the milk, butter and cheese and mash until the cheese melts into potatoes and broccoli. Season with salt and pepper, to taste, and transfer to a serving bowl, to serve.\n",
      "Smashed Potatoes and Broccoli 4 pounds Yukon gold or russet potatoes, quartered 2 (about 6 cups) broccoli heads 1/2 cup whole milk 1/2 cup heavy cream 1/2 stick butter Salt and freshly ground black pepper Watch how to make this recipe.\n",
      "Boil potatoes in salted water until very tender; about 20 minutes. Cut the florets off the broccoli and add to boiling potatoes, about 7 minutes. Drain and place back into pot.\n",
      "Heat the milk, cream, and butter in a small saucepan. Pour sauce into the potatoes and broccoli, mash together. Season, to taste, with salt and pepper.\n",
      "Broccoli Puree 1 large russet potato, peeled and cut into 1-inch chunks 1 pound broccoli florets 1/2 cup chicken broth 4 ounces cream cheese 1/4 cup freshly grated Parmesan Salt and freshly ground black pepper Watch how to make this recipe.\n",
      "Fill a large pot with enough water to come 2 inches up the sides of the pot. Set a steamer rack in the pot, cover, and bring the water to a boil over high heat. Add the potato chunks and cook until they are very tender, about 18 minutes. Transfer the potatoes to a medium bowl and mash until smooth.\n",
      "Place broccoli into steamer rack and steam over medium heat until the broccoli is very tender, about 12 minutes. Transfer the broccoli to the bowl of a food processor. Add the broth, cream cheese, and Parmesan. Process until the broccoli is pureed and almost smooth.\n",
      "Stir the broccoli puree into the mashed potato and blend well. Season the puree to taste with salt and pepper, and serve.\n",
      "Sauteed Broccoli 1 head broccoli 3 tablespoons butter Salt and pepper Bring a large pot of salted water to a boil. Remove the broccoli florets. Trim the stalk and cut it into pieces. Blanch the broccoli for 3 to 7 minutes. Test to see if it is done after 3 minutes. Shock broccoli in ice water when it is done.\n",
      "Heat a skillet and add the butter. Add broccoli. Toss to coat and heat, then season with salt and pepper to taste.\n",
      "Broccoli, Parmesan and Lemon 3 heads broccoli (about 3 pounds) 3 tablespoons olive oil Salt and freshly ground black pepper 1 cup freshly grated Parmigiano-Reggiano 1 lemon, juiced Watch how to make this recipe.\n",
      "Preheat the oven to 400 degrees F.\n",
      "Trim about 1 inch off the ends of the broccoli stalks and cut the broccoli lengthwise into spears. Arrange the broccoli on a nonstick cookie sheet, drizzle with some olive oil and season with a little bit of salt and a generous amount of freshly ground black pepper. Toss to coat evenly. Transfer to the oven and roast for 10 minutes.\n",
      "Remove the broccoli from the oven and sprinkle the cheese evenly over the top and bake until the cheese melt and forms a crisp shell over the broccoli, about 10 minutes. Lift the broccoli out onto a platter with a spatula and drizzle with fresh lemon.\n",
      "Awesome Broccoli Marinara 2 tablespoons olive oil  1 (14.5 ounce) can diced tomatoes with balsamic vinegar, basil and olive oil  1 pound broccoli florets  2 cloves garlic, chopped  salt and pepper to taste   Heat olive oil in a large skillet over medium heat. Add garlic, and cook for a few minutes, stirring constantly. Pour in the tomatoes with their juices, and simmer until the liquid has reduced by about 1/2. Place the broccoli on top of the tomatoes, and season with a little salt and pepper. Cover, and simmer over low heat for 10 minutes, or until the broccoli is tender. Do not over cook the broccoli, it should be a vibrant green. Pour into a serving dish, and toss to blend with the sauce before serving.\n",
      "\n",
      "Easy Broccoli Salad 1 1/2 pounds fresh broccoli  3 cloves garlic, mashed into a paste  2 tablespoons lemon juice  2 tablespoons rice vinegar  1/2 teaspoon Dijon mustard  1 pinch red pepper flakes, or to taste  1 pinch salt and ground black pepper, or to taste  1/3 cup olive oil   Trim bottoms of broccoli stems and cut off broccoli heads; cut the broccoli heads into quarters. Peel broccoli stems and cut into quarters crosswise.\n",
      "Bring a large pot of lightly salted water to a boil; reduce heat to medium and cook broccoli until tender when cut with a paring knife but still slightly firm, 5 to 6 minutes.\n",
      "Transfer broccoli to a large bowl filled with cold water and chill to stop the cooking process. Drain well. Arrange broccoli in a colander with the florets facing down towards the holes of the colander and allow broccoli to drip for at least 30 minutes.\n",
      "Whisk together garlic, lemon juice, rice vinegar, Dijon mustard, red pepper flakes, salt, and black pepper together in a large serving bowl. Slowly drizzle in olive oil while whisking rapidly until the dressing is thick and creamy. Adjust salt, black pepper, and crushed red pepper flakes to taste.\n",
      "Toss broccoli with the dressing; let stand 5 to 10 minutes to marinate, then toss again. Can be refrigerated up to an hour if you want to serve the salad cold.\n",
      "\n",
      "Tangy Broccoli 1 large head broccoli, cut into florets  2 tablespoons prepared Dijon-style mustard  4 ounces process cheese food   Steam broccoli until tender-crisp.\n",
      "Toss broccoli with mustard, then melt the cheese over the broccoli in a microwave for 1 minute on HIGH. Stir and serve.\n",
      "\n",
      "Roasted Broccoli 1 pound broccoli 2 tablespoons olive oil 2 tablespoons unsalted butter Salt and freshly ground black pepper Preheat oven to 500 degrees Wash and drain broccoli. Pat dry. Cut into florets. In a large bowl, toss the broccoli with the oil and salt and pepper to taste. Arrange florets in a single layer on a baking sheet and roast, turning once, for 12 minutes, or until just tender. Transfer broccoli to a serving bowl. Toss with butter and season with salt and pepper.;\n",
      "Broccoli Stuffed Baked Potatoes 2 large russet potatoes, washed and baked until tender 2 tablespoons butter 1 cup steamed broccoli, coarsely 1 scallion, finely chopped 1/2 cup sour cream Paprika 1 cup shredded cheddar cheese Salt pepper Preheat oven to 350 degrees. Slice off tops of baked potatoes ( do not slice in half but keep the potato whole except for the slice off the top). Carefully scoop out insides of potato and place in bowl. If necessary, heat potato in microwave. Mash the potato with the butter until smooth. Add the scallion, sour cream, and 2 cup cheddar cheese. Season with salt and pepper. Carefully fold in broccoli. Stuff filling back into potatoes. Top with remaining cheese and sprinkle with paprika\n"
     ]
    }
   ],
   "source": [
    "# Sort the recipes by their similarity score\n",
    "top_indices = np.argsort(cosine_sim_matrix.flatten())[-10:][::-1]\n",
    "\n",
    "# Print the top 5 most similar recipes\n",
    "print(\"Top 5 similar recipes:\")\n",
    "for index in top_indices:\n",
    "    print(recipe_data.iloc[index]['Combined'])"
   ]
  },
  {
   "cell_type": "markdown",
   "metadata": {
    "created_in_deepnote_cell": true,
    "deepnote_cell_type": "markdown"
   },
   "source": [
    "<a style='text-decoration:none;line-height:16px;display:flex;color:#5B5B62;padding:10px;justify-content:end;' href='https://deepnote.com?utm_source=created-in-deepnote-cell&projectId=5cb9474c-6462-4da0-a2dd-0ed9f5cafe8e' target=\"_blank\">\n",
    "<img alt='Created in deepnote.com' style='display:inline;max-height:16px;margin:0px;margin-right:7.5px;' src='data:image/svg+xml;base64,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' > </img>\n",
    "Created in <span style='font-weight:600;margin-left:4px;'>Deepnote</span></a>"
   ]
  }
 ],
 "metadata": {
  "deepnote_app_layout": "powerful-article",
  "deepnote_app_reactivity_enabled": true,
  "deepnote_execution_queue": [],
  "deepnote_notebook_id": "4fc63b94825d423095faa489d5c8bd02",
  "kernelspec": {
   "display_name": "Python 3 (ipykernel)",
   "language": "python",
   "name": "python3"
  },
  "language_info": {
   "codemirror_mode": {
    "name": "ipython",
    "version": 3
   },
   "file_extension": ".py",
   "mimetype": "text/x-python",
   "name": "python",
   "nbconvert_exporter": "python",
   "pygments_lexer": "ipython3",
   "version": "3.11.3"
  }
 },
 "nbformat": 4,
 "nbformat_minor": 1
}
